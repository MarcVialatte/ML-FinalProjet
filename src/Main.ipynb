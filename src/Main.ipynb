{
 "cells": [
  {
   "cell_type": "code",
   "execution_count": 5,
   "id": "1467212a-6f7b-4673-adb4-43c21f4b7cb8",
   "metadata": {},
   "outputs": [],
   "source": [
    "import pandas as pd\n",
    "from sklearn.model_selection import train_test_split\n",
    "from sklearn.ensemble import RandomForestClassifier\n",
    "from sklearn.metrics import accuracy_score, classification_report, confusion_matrix\n",
    "from sklearn.preprocessing import LabelEncoder"
   ]
  },
  {
   "cell_type": "code",
   "execution_count": null,
   "id": "7142455b-dc59-4ae9-b5da-a896a0e1f42a",
   "metadata": {},
   "outputs": [],
   "source": [
    "train_data = pd.read_csv('../res/train_dataset.csv')\n",
    "test_data = pd.read_csv('../res/test_dataset.csv')"
   ]
  },
  {
   "cell_type": "code",
   "execution_count": null,
   "id": "cf5e77f7-a7e8-483a-80fd-94b8eabcaedb",
   "metadata": {},
   "outputs": [],
   "source": [
    "# Encodage one-hot de la colonne 'subsystem'\n",
    "train_data = pd.get_dummies(train_data, columns=['subsystem'])\n",
    "\n",
    "# Encodage one-hot de la colonne 'entry'\n",
    "train_data = pd.get_dummies(train_data, columns=['entry'])\n",
    "\n",
    "# Encodage one-hot de la colonne 'entry' dans les données de test\n",
    "test_data = pd.get_dummies(test_data, columns=['entry'])\n"
   ]
  },
  {
   "cell_type": "code",
   "execution_count": null,
   "id": "c9e33483-f46f-4c7f-b7a3-df60a82eee4b",
   "metadata": {},
   "outputs": [],
   "source": [
    "# Prétraitement des données\n",
    "X_train = train_data.drop(['sha256', 'md5', 'label'], axis=1)\n",
    "y_train = train_data['label']\n",
    "# Application du label encoding à la colonne 'entry'\n",
    "label_encoder = LabelEncoder()\n",
    "X_train['entry'] = label_encoder.fit_transform(X_train['entry'])\n",
    "\n",
    "# Prétraitement des données de test\n",
    "X_test = test_data.drop(['sha256', 'md5'], axis=1)"
   ]
  },
  {
   "cell_type": "code",
   "execution_count": null,
   "id": "433b5b0d-a1b4-4f07-985f-9747e9a7a054",
   "metadata": {},
   "outputs": [],
   "source": [
    "# Création et entraînement du modèle RandomForest\n",
    "model = RandomForestClassifier(n_estimators=100, random_state=42)\n",
    "model.fit(X_train, y_train)"
   ]
  },
  {
   "cell_type": "code",
   "execution_count": null,
   "id": "cee479c5-5511-45f9-96f3-a543cb5ce9ef",
   "metadata": {},
   "outputs": [],
   "source": [
    "\n",
    "# Faire des prédictions sur l'ensemble de test\n",
    "y_pred = model.predict(X_test)\n",
    "\n",
    "# Création d'un DataFrame avec les résultats pour la soumission\n",
    "submission_df = pd.DataFrame({'id': test_data['id'], 'label': y_pred})\n",
    "\n",
    "# Enregistrez le fichier CSV pour la soumission\n",
    "submission_df.to_csv('submission.csv', index=False)"
   ]
  },
  {
   "cell_type": "code",
   "execution_count": null,
   "id": "b0e59fa2-9066-4077-a80a-4c93b96851b3",
   "metadata": {},
   "outputs": [],
   "source": []
  }
 ],
 "metadata": {
  "kernelspec": {
   "display_name": "Python 3 (ipykernel)",
   "language": "python",
   "name": "python3"
  },
  "language_info": {
   "codemirror_mode": {
    "name": "ipython",
    "version": 3
   },
   "file_extension": ".py",
   "mimetype": "text/x-python",
   "name": "python",
   "nbconvert_exporter": "python",
   "pygments_lexer": "ipython3",
   "version": "3.11.4"
  }
 },
 "nbformat": 4,
 "nbformat_minor": 5
}
